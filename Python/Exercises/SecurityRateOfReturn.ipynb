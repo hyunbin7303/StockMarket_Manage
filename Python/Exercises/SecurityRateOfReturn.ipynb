{
 "cells": [
  {
   "cell_type": "code",
   "execution_count": 1,
   "metadata": {},
   "outputs": [],
   "source": [
    "import numpy as np\n",
    "import pandas as pd\n",
    "from pandas_datareader import data as wb\n",
    "import matplotlib.pyplot as plt\n"
   ]
  },
  {
   "cell_type": "code",
   "execution_count": 2,
   "metadata": {},
   "outputs": [],
   "source": [
    "tickers = ['SQ', 'MSFT', 'NVDA', 'GP']\n",
    "myData = pd.DataFrame()\n",
    "for t in tickers:\n",
    "    myData[t] = wb.DataReader(t, data_source='yahoo', start='2019-11-21')['Adj Close']"
   ]
  },
  {
   "cell_type": "code",
   "execution_count": 3,
   "metadata": {},
   "outputs": [
    {
     "name": "stdout",
     "output_type": "stream",
     "text": [
      "<class 'pandas.core.frame.DataFrame'>\n",
      "DatetimeIndex: 267 entries, 2019-11-21 to 2020-12-11\n",
      "Data columns (total 4 columns):\n",
      " #   Column  Non-Null Count  Dtype  \n",
      "---  ------  --------------  -----  \n",
      " 0   SQ      267 non-null    float64\n",
      " 1   MSFT    267 non-null    float64\n",
      " 2   NVDA    267 non-null    float64\n",
      " 3   GP      74 non-null     float64\n",
      "dtypes: float64(4)\n",
      "memory usage: 10.4 KB\n"
     ]
    }
   ],
   "source": [
    "myData.info()"
   ]
  },
  {
   "cell_type": "code",
   "execution_count": 4,
   "metadata": {},
   "outputs": [
    {
     "data": {
      "text/html": [
       "<div>\n",
       "<style scoped>\n",
       "    .dataframe tbody tr th:only-of-type {\n",
       "        vertical-align: middle;\n",
       "    }\n",
       "\n",
       "    .dataframe tbody tr th {\n",
       "        vertical-align: top;\n",
       "    }\n",
       "\n",
       "    .dataframe thead th {\n",
       "        text-align: right;\n",
       "    }\n",
       "</style>\n",
       "<table border=\"1\" class=\"dataframe\">\n",
       "  <thead>\n",
       "    <tr style=\"text-align: right;\">\n",
       "      <th></th>\n",
       "      <th>SQ</th>\n",
       "      <th>MSFT</th>\n",
       "      <th>NVDA</th>\n",
       "      <th>GP</th>\n",
       "    </tr>\n",
       "    <tr>\n",
       "      <th>Date</th>\n",
       "      <th></th>\n",
       "      <th></th>\n",
       "      <th></th>\n",
       "      <th></th>\n",
       "    </tr>\n",
       "  </thead>\n",
       "  <tbody>\n",
       "    <tr>\n",
       "      <th>2019-11-21</th>\n",
       "      <td>67.419998</td>\n",
       "      <td>147.913040</td>\n",
       "      <td>209.679031</td>\n",
       "      <td>NaN</td>\n",
       "    </tr>\n",
       "    <tr>\n",
       "      <th>2019-11-22</th>\n",
       "      <td>67.750000</td>\n",
       "      <td>148.021912</td>\n",
       "      <td>210.387360</td>\n",
       "      <td>NaN</td>\n",
       "    </tr>\n",
       "    <tr>\n",
       "      <th>2019-11-25</th>\n",
       "      <td>68.250000</td>\n",
       "      <td>149.644714</td>\n",
       "      <td>220.682755</td>\n",
       "      <td>NaN</td>\n",
       "    </tr>\n",
       "    <tr>\n",
       "      <th>2019-11-26</th>\n",
       "      <td>68.940002</td>\n",
       "      <td>150.436340</td>\n",
       "      <td>216.482788</td>\n",
       "      <td>NaN</td>\n",
       "    </tr>\n",
       "    <tr>\n",
       "      <th>2019-11-27</th>\n",
       "      <td>69.650002</td>\n",
       "      <td>150.723297</td>\n",
       "      <td>217.880493</td>\n",
       "      <td>NaN</td>\n",
       "    </tr>\n",
       "  </tbody>\n",
       "</table>\n",
       "</div>"
      ],
      "text/plain": [
       "                   SQ        MSFT        NVDA  GP\n",
       "Date                                             \n",
       "2019-11-21  67.419998  147.913040  209.679031 NaN\n",
       "2019-11-22  67.750000  148.021912  210.387360 NaN\n",
       "2019-11-25  68.250000  149.644714  220.682755 NaN\n",
       "2019-11-26  68.940002  150.436340  216.482788 NaN\n",
       "2019-11-27  69.650002  150.723297  217.880493 NaN"
      ]
     },
     "execution_count": 4,
     "metadata": {},
     "output_type": "execute_result"
    }
   ],
   "source": [
    "myData.head()"
   ]
  },
  {
   "cell_type": "code",
   "execution_count": 5,
   "metadata": {},
   "outputs": [
    {
     "data": {
      "text/html": [
       "<div>\n",
       "<style scoped>\n",
       "    .dataframe tbody tr th:only-of-type {\n",
       "        vertical-align: middle;\n",
       "    }\n",
       "\n",
       "    .dataframe tbody tr th {\n",
       "        vertical-align: top;\n",
       "    }\n",
       "\n",
       "    .dataframe thead th {\n",
       "        text-align: right;\n",
       "    }\n",
       "</style>\n",
       "<table border=\"1\" class=\"dataframe\">\n",
       "  <thead>\n",
       "    <tr style=\"text-align: right;\">\n",
       "      <th></th>\n",
       "      <th>SQ</th>\n",
       "      <th>MSFT</th>\n",
       "      <th>NVDA</th>\n",
       "      <th>GP</th>\n",
       "    </tr>\n",
       "    <tr>\n",
       "      <th>Date</th>\n",
       "      <th></th>\n",
       "      <th></th>\n",
       "      <th></th>\n",
       "      <th></th>\n",
       "    </tr>\n",
       "  </thead>\n",
       "  <tbody>\n",
       "    <tr>\n",
       "      <th>2020-12-07</th>\n",
       "      <td>212.580002</td>\n",
       "      <td>214.289993</td>\n",
       "      <td>544.270020</td>\n",
       "      <td>18.330000</td>\n",
       "    </tr>\n",
       "    <tr>\n",
       "      <th>2020-12-08</th>\n",
       "      <td>213.009995</td>\n",
       "      <td>216.009995</td>\n",
       "      <td>534.000000</td>\n",
       "      <td>21.990000</td>\n",
       "    </tr>\n",
       "    <tr>\n",
       "      <th>2020-12-09</th>\n",
       "      <td>207.039993</td>\n",
       "      <td>211.800003</td>\n",
       "      <td>517.229980</td>\n",
       "      <td>19.510000</td>\n",
       "    </tr>\n",
       "    <tr>\n",
       "      <th>2020-12-10</th>\n",
       "      <td>217.250000</td>\n",
       "      <td>210.520004</td>\n",
       "      <td>518.890015</td>\n",
       "      <td>19.129999</td>\n",
       "    </tr>\n",
       "    <tr>\n",
       "      <th>2020-12-11</th>\n",
       "      <td>216.589996</td>\n",
       "      <td>213.259995</td>\n",
       "      <td>520.530029</td>\n",
       "      <td>18.270000</td>\n",
       "    </tr>\n",
       "  </tbody>\n",
       "</table>\n",
       "</div>"
      ],
      "text/plain": [
       "                    SQ        MSFT        NVDA         GP\n",
       "Date                                                     \n",
       "2020-12-07  212.580002  214.289993  544.270020  18.330000\n",
       "2020-12-08  213.009995  216.009995  534.000000  21.990000\n",
       "2020-12-09  207.039993  211.800003  517.229980  19.510000\n",
       "2020-12-10  217.250000  210.520004  518.890015  19.129999\n",
       "2020-12-11  216.589996  213.259995  520.530029  18.270000"
      ]
     },
     "execution_count": 5,
     "metadata": {},
     "output_type": "execute_result"
    }
   ],
   "source": [
    "myData.tail()"
   ]
  },
  {
   "cell_type": "markdown",
   "metadata": {},
   "source": [
    "### Normalization to 100:\n",
    "\\begin{align*}\n",
    "\\frac{{P}_t}{{P}_0} * 100\n",
    "\\end{align*}\n"
   ]
  },
  {
   "cell_type": "code",
   "execution_count": 6,
   "metadata": {},
   "outputs": [
    {
     "data": {
      "text/plain": [
       "SQ       67.419998\n",
       "MSFT    147.913040\n",
       "NVDA    209.679031\n",
       "GP             NaN\n",
       "Name: 2019-11-21 00:00:00, dtype: float64"
      ]
     },
     "execution_count": 6,
     "metadata": {},
     "output_type": "execute_result"
    }
   ],
   "source": [
    "myData.iloc[0]"
   ]
  },
  {
   "cell_type": "code",
   "execution_count": 7,
   "metadata": {},
   "outputs": [
    {
     "data": {
      "text/plain": [
       "<matplotlib.axes._subplots.AxesSubplot at 0x2334b563910>"
      ]
     },
     "execution_count": 7,
     "metadata": {},
     "output_type": "execute_result"
    },
    {
     "data": {
      "image/png": "[encoded data removed]",
      "text/plain": [
       "<Figure size 1080x432 with 1 Axes>"
      ]
     },
     "metadata": {
      "needs_background": "light"
     },
     "output_type": "display_data"
    }
   ],
   "source": [
    "(myData / myData.iloc[0] * 100).plot(figsize = (15,6))"
   ]
  },
  {
   "cell_type": "markdown",
   "metadata": {},
   "source": [
    "### Calculating the Return of a Portfolio of securities."
   ]
  },
  {
   "cell_type": "code",
   "execution_count": 8,
   "metadata": {},
   "outputs": [
    {
     "data": {
      "text/html": [
       "<div>\n",
       "<style scoped>\n",
       "    .dataframe tbody tr th:only-of-type {\n",
       "        vertical-align: middle;\n",
       "    }\n",
       "\n",
       "    .dataframe tbody tr th {\n",
       "        vertical-align: top;\n",
       "    }\n",
       "\n",
       "    .dataframe thead th {\n",
       "        text-align: right;\n",
       "    }\n",
       "</style>\n",
       "<table border=\"1\" class=\"dataframe\">\n",
       "  <thead>\n",
       "    <tr style=\"text-align: right;\">\n",
       "      <th></th>\n",
       "      <th>SQ</th>\n",
       "      <th>MSFT</th>\n",
       "      <th>NVDA</th>\n",
       "      <th>GP</th>\n",
       "    </tr>\n",
       "    <tr>\n",
       "      <th>Date</th>\n",
       "      <th></th>\n",
       "      <th></th>\n",
       "      <th></th>\n",
       "      <th></th>\n",
       "    </tr>\n",
       "  </thead>\n",
       "  <tbody>\n",
       "    <tr>\n",
       "      <th>2019-11-21</th>\n",
       "      <td>NaN</td>\n",
       "      <td>NaN</td>\n",
       "      <td>NaN</td>\n",
       "      <td>NaN</td>\n",
       "    </tr>\n",
       "    <tr>\n",
       "      <th>2019-11-22</th>\n",
       "      <td>0.004895</td>\n",
       "      <td>0.000736</td>\n",
       "      <td>0.003378</td>\n",
       "      <td>NaN</td>\n",
       "    </tr>\n",
       "    <tr>\n",
       "      <th>2019-11-25</th>\n",
       "      <td>0.007380</td>\n",
       "      <td>0.010963</td>\n",
       "      <td>0.048935</td>\n",
       "      <td>NaN</td>\n",
       "    </tr>\n",
       "    <tr>\n",
       "      <th>2019-11-26</th>\n",
       "      <td>0.010110</td>\n",
       "      <td>0.005290</td>\n",
       "      <td>-0.019032</td>\n",
       "      <td>NaN</td>\n",
       "    </tr>\n",
       "    <tr>\n",
       "      <th>2019-11-27</th>\n",
       "      <td>0.010299</td>\n",
       "      <td>0.001907</td>\n",
       "      <td>0.006456</td>\n",
       "      <td>NaN</td>\n",
       "    </tr>\n",
       "    <tr>\n",
       "      <th>...</th>\n",
       "      <td>...</td>\n",
       "      <td>...</td>\n",
       "      <td>...</td>\n",
       "      <td>...</td>\n",
       "    </tr>\n",
       "    <tr>\n",
       "      <th>2020-12-07</th>\n",
       "      <td>0.021283</td>\n",
       "      <td>-0.000327</td>\n",
       "      <td>0.003577</td>\n",
       "      <td>-0.011860</td>\n",
       "    </tr>\n",
       "    <tr>\n",
       "      <th>2020-12-08</th>\n",
       "      <td>0.002023</td>\n",
       "      <td>0.008027</td>\n",
       "      <td>-0.018869</td>\n",
       "      <td>0.199673</td>\n",
       "    </tr>\n",
       "    <tr>\n",
       "      <th>2020-12-09</th>\n",
       "      <td>-0.028027</td>\n",
       "      <td>-0.019490</td>\n",
       "      <td>-0.031405</td>\n",
       "      <td>-0.112779</td>\n",
       "    </tr>\n",
       "    <tr>\n",
       "      <th>2020-12-10</th>\n",
       "      <td>0.049314</td>\n",
       "      <td>-0.006043</td>\n",
       "      <td>0.003209</td>\n",
       "      <td>-0.019477</td>\n",
       "    </tr>\n",
       "    <tr>\n",
       "      <th>2020-12-11</th>\n",
       "      <td>-0.003038</td>\n",
       "      <td>0.013015</td>\n",
       "      <td>0.003161</td>\n",
       "      <td>-0.044956</td>\n",
       "    </tr>\n",
       "  </tbody>\n",
       "</table>\n",
       "<p>267 rows × 4 columns</p>\n",
       "</div>"
      ],
      "text/plain": [
       "                  SQ      MSFT      NVDA        GP\n",
       "Date                                              \n",
       "2019-11-21       NaN       NaN       NaN       NaN\n",
       "2019-11-22  0.004895  0.000736  0.003378       NaN\n",
       "2019-11-25  0.007380  0.010963  0.048935       NaN\n",
       "2019-11-26  0.010110  0.005290 -0.019032       NaN\n",
       "2019-11-27  0.010299  0.001907  0.006456       NaN\n",
       "...              ...       ...       ...       ...\n",
       "2020-12-07  0.021283 -0.000327  0.003577 -0.011860\n",
       "2020-12-08  0.002023  0.008027 -0.018869  0.199673\n",
       "2020-12-09 -0.028027 -0.019490 -0.031405 -0.112779\n",
       "2020-12-10  0.049314 -0.006043  0.003209 -0.019477\n",
       "2020-12-11 -0.003038  0.013015  0.003161 -0.044956\n",
       "\n",
       "[267 rows x 4 columns]"
      ]
     },
     "execution_count": 8,
     "metadata": {},
     "output_type": "execute_result"
    }
   ],
   "source": [
    "returns = (myData/myData.shift(1))-1\n",
    "returns"
   ]
  },
  {
   "cell_type": "code",
   "execution_count": 9,
   "metadata": {},
   "outputs": [
    {
     "data": {
      "text/html": [
       "<div>\n",
       "<style scoped>\n",
       "    .dataframe tbody tr th:only-of-type {\n",
       "        vertical-align: middle;\n",
       "    }\n",
       "\n",
       "    .dataframe tbody tr th {\n",
       "        vertical-align: top;\n",
       "    }\n",
       "\n",
       "    .dataframe thead th {\n",
       "        text-align: right;\n",
       "    }\n",
       "</style>\n",
       "<table border=\"1\" class=\"dataframe\">\n",
       "  <thead>\n",
       "    <tr style=\"text-align: right;\">\n",
       "      <th></th>\n",
       "      <th>SQ</th>\n",
       "      <th>MSFT</th>\n",
       "      <th>NVDA</th>\n",
       "      <th>GP</th>\n",
       "    </tr>\n",
       "    <tr>\n",
       "      <th>Date</th>\n",
       "      <th></th>\n",
       "      <th></th>\n",
       "      <th></th>\n",
       "      <th></th>\n",
       "    </tr>\n",
       "  </thead>\n",
       "  <tbody>\n",
       "    <tr>\n",
       "      <th>2020-12-07</th>\n",
       "      <td>0.021283</td>\n",
       "      <td>-0.000327</td>\n",
       "      <td>0.003577</td>\n",
       "      <td>-0.011860</td>\n",
       "    </tr>\n",
       "    <tr>\n",
       "      <th>2020-12-08</th>\n",
       "      <td>0.002023</td>\n",
       "      <td>0.008027</td>\n",
       "      <td>-0.018869</td>\n",
       "      <td>0.199673</td>\n",
       "    </tr>\n",
       "    <tr>\n",
       "      <th>2020-12-09</th>\n",
       "      <td>-0.028027</td>\n",
       "      <td>-0.019490</td>\n",
       "      <td>-0.031405</td>\n",
       "      <td>-0.112779</td>\n",
       "    </tr>\n",
       "    <tr>\n",
       "      <th>2020-12-10</th>\n",
       "      <td>0.049314</td>\n",
       "      <td>-0.006043</td>\n",
       "      <td>0.003209</td>\n",
       "      <td>-0.019477</td>\n",
       "    </tr>\n",
       "    <tr>\n",
       "      <th>2020-12-11</th>\n",
       "      <td>-0.003038</td>\n",
       "      <td>0.013015</td>\n",
       "      <td>0.003161</td>\n",
       "      <td>-0.044956</td>\n",
       "    </tr>\n",
       "  </tbody>\n",
       "</table>\n",
       "</div>"
      ],
      "text/plain": [
       "                  SQ      MSFT      NVDA        GP\n",
       "Date                                              \n",
       "2020-12-07  0.021283 -0.000327  0.003577 -0.011860\n",
       "2020-12-08  0.002023  0.008027 -0.018869  0.199673\n",
       "2020-12-09 -0.028027 -0.019490 -0.031405 -0.112779\n",
       "2020-12-10  0.049314 -0.006043  0.003209 -0.019477\n",
       "2020-12-11 -0.003038  0.013015  0.003161 -0.044956"
      ]
     },
     "execution_count": 9,
     "metadata": {},
     "output_type": "execute_result"
    }
   ],
   "source": [
    "returns.tail()"
   ]
  },
  {
   "cell_type": "code",
   "execution_count": 10,
   "metadata": {},
   "outputs": [],
   "source": [
    "weights = np.array([0.40,0.2,0.15,0.25])"
   ]
  },
  {
   "cell_type": "code",
   "execution_count": 11,
   "metadata": {},
   "outputs": [],
   "source": [
    "check = np.dot(returns,weights )"
   ]
  },
  {
   "cell_type": "code",
   "execution_count": 12,
   "metadata": {},
   "outputs": [
    {
     "data": {
      "text/plain": [
       "SQ      1.355147\n",
       "MSFT    0.434722\n",
       "NVDA    1.016767\n",
       "GP      0.509554\n",
       "dtype: float64"
      ]
     },
     "execution_count": 12,
     "metadata": {},
     "output_type": "execute_result"
    }
   ],
   "source": [
    "annual_returns = returns.mean() * 250\n",
    "annual_returns"
   ]
  },
  {
   "cell_type": "code",
   "execution_count": 13,
   "metadata": {},
   "outputs": [
    {
     "data": {
      "text/plain": [
       "0.9089069856488081"
      ]
     },
     "execution_count": 13,
     "metadata": {},
     "output_type": "execute_result"
    }
   ],
   "source": [
    "np.dot(annual_returns, weights)"
   ]
  },
  {
   "cell_type": "code",
   "execution_count": 14,
   "metadata": {},
   "outputs": [],
   "source": [
    "portfolio_1 = str(round(np.dot(annual_returns,weights),5)*100) + '%'"
   ]
  },
  {
   "cell_type": "code",
   "execution_count": 15,
   "metadata": {},
   "outputs": [],
   "source": [
    "weights_2 = np.array([0.4,0.4, 0.15, 0.05])"
   ]
  },
  {
   "cell_type": "code",
   "execution_count": 16,
   "metadata": {},
   "outputs": [],
   "source": [
    "portfolio_2 =  str(round(np.dot(annual_returns,weights_2),5)*100) + '%'"
   ]
  },
  {
   "cell_type": "code",
   "execution_count": 17,
   "metadata": {},
   "outputs": [
    {
     "name": "stdout",
     "output_type": "stream",
     "text": [
      "90.891%\n",
      "89.39399999999999%\n"
     ]
    }
   ],
   "source": [
    "print(portfolio_1)\n",
    "print(portfolio_2)"
   ]
  },
  {
   "cell_type": "code",
   "execution_count": null,
   "metadata": {},
   "outputs": [],
   "source": []
  },
  {
   "cell_type": "code",
   "execution_count": null,
   "metadata": {},
   "outputs": [],
   "source": []
  }
 ],
 "metadata": {
  "kernelspec": {
   "display_name": "Python 3",
   "language": "python",
   "name": "python3"
  },
  "language_info": {
   "codemirror_mode": {
    "name": "ipython",
    "version": 3
   },
   "file_extension": ".py",
   "mimetype": "text/x-python",
   "name": "python",
   "nbconvert_exporter": "python",
   "pygments_lexer": "ipython3",
   "version": "3.8.3"
  }
 },
 "nbformat": 4,
 "nbformat_minor": 4
}
