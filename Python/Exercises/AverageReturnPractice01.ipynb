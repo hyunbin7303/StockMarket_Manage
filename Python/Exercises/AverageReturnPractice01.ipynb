{
 "cells": [
  {
   "cell_type": "code",
   "execution_count": 1,
   "metadata": {},
   "outputs": [],
   "source": [
    "import numpy as np\n",
    "from pandas_datareader import data as wb\n",
    "import matplotlib.pyplot as plt"
   ]
  },
  {
   "cell_type": "code",
   "execution_count": 2,
   "metadata": {},
   "outputs": [],
   "source": [
    "AAPL = wb.DataReader('AAPL', data_source = 'yahoo', start='1995-1-1')"
   ]
  },
  {
   "cell_type": "code",
   "execution_count": 3,
   "metadata": {},
   "outputs": [
    {
     "data": {
      "text/html": [
       "<div>\n",
       "<style scoped>\n",
       "    .dataframe tbody tr th:only-of-type {\n",
       "        vertical-align: middle;\n",
       "    }\n",
       "\n",
       "    .dataframe tbody tr th {\n",
       "        vertical-align: top;\n",
       "    }\n",
       "\n",
       "    .dataframe thead th {\n",
       "        text-align: right;\n",
       "    }\n",
       "</style>\n",
       "<table border=\"1\" class=\"dataframe\">\n",
       "  <thead>\n",
       "    <tr style=\"text-align: right;\">\n",
       "      <th></th>\n",
       "      <th>High</th>\n",
       "      <th>Low</th>\n",
       "      <th>Open</th>\n",
       "      <th>Close</th>\n",
       "      <th>Volume</th>\n",
       "      <th>Adj Close</th>\n",
       "    </tr>\n",
       "    <tr>\n",
       "      <th>Date</th>\n",
       "      <th></th>\n",
       "      <th></th>\n",
       "      <th></th>\n",
       "      <th></th>\n",
       "      <th></th>\n",
       "      <th></th>\n",
       "    </tr>\n",
       "  </thead>\n",
       "  <tbody>\n",
       "    <tr>\n",
       "      <th>1995-01-03</th>\n",
       "      <td>0.347098</td>\n",
       "      <td>0.338170</td>\n",
       "      <td>0.347098</td>\n",
       "      <td>0.342634</td>\n",
       "      <td>1.038688e+08</td>\n",
       "      <td>0.289867</td>\n",
       "    </tr>\n",
       "    <tr>\n",
       "      <th>1995-01-04</th>\n",
       "      <td>0.353795</td>\n",
       "      <td>0.344866</td>\n",
       "      <td>0.344866</td>\n",
       "      <td>0.351562</td>\n",
       "      <td>1.586816e+08</td>\n",
       "      <td>0.297421</td>\n",
       "    </tr>\n",
       "    <tr>\n",
       "      <th>1995-01-05</th>\n",
       "      <td>0.351562</td>\n",
       "      <td>0.345982</td>\n",
       "      <td>0.350446</td>\n",
       "      <td>0.347098</td>\n",
       "      <td>7.364000e+07</td>\n",
       "      <td>0.293644</td>\n",
       "    </tr>\n",
       "    <tr>\n",
       "      <th>1995-01-06</th>\n",
       "      <td>0.385045</td>\n",
       "      <td>0.367188</td>\n",
       "      <td>0.371652</td>\n",
       "      <td>0.375000</td>\n",
       "      <td>1.076622e+09</td>\n",
       "      <td>0.317249</td>\n",
       "    </tr>\n",
       "    <tr>\n",
       "      <th>1995-01-09</th>\n",
       "      <td>0.373884</td>\n",
       "      <td>0.366071</td>\n",
       "      <td>0.371652</td>\n",
       "      <td>0.367885</td>\n",
       "      <td>2.740864e+08</td>\n",
       "      <td>0.311230</td>\n",
       "    </tr>\n",
       "  </tbody>\n",
       "</table>\n",
       "</div>"
      ],
      "text/plain": [
       "                High       Low      Open     Close        Volume  Adj Close\n",
       "Date                                                                       \n",
       "1995-01-03  0.347098  0.338170  0.347098  0.342634  1.038688e+08   0.289867\n",
       "1995-01-04  0.353795  0.344866  0.344866  0.351562  1.586816e+08   0.297421\n",
       "1995-01-05  0.351562  0.345982  0.350446  0.347098  7.364000e+07   0.293644\n",
       "1995-01-06  0.385045  0.367188  0.371652  0.375000  1.076622e+09   0.317249\n",
       "1995-01-09  0.373884  0.366071  0.371652  0.367885  2.740864e+08   0.311230"
      ]
     },
     "execution_count": 3,
     "metadata": {},
     "output_type": "execute_result"
    }
   ],
   "source": [
    "AAPL.head()"
   ]
  },
  {
   "cell_type": "code",
   "execution_count": 4,
   "metadata": {},
   "outputs": [
    {
     "data": {
      "text/html": [
       "<div>\n",
       "<style scoped>\n",
       "    .dataframe tbody tr th:only-of-type {\n",
       "        vertical-align: middle;\n",
       "    }\n",
       "\n",
       "    .dataframe tbody tr th {\n",
       "        vertical-align: top;\n",
       "    }\n",
       "\n",
       "    .dataframe thead th {\n",
       "        text-align: right;\n",
       "    }\n",
       "</style>\n",
       "<table border=\"1\" class=\"dataframe\">\n",
       "  <thead>\n",
       "    <tr style=\"text-align: right;\">\n",
       "      <th></th>\n",
       "      <th>High</th>\n",
       "      <th>Low</th>\n",
       "      <th>Open</th>\n",
       "      <th>Close</th>\n",
       "      <th>Volume</th>\n",
       "      <th>Adj Close</th>\n",
       "    </tr>\n",
       "    <tr>\n",
       "      <th>Date</th>\n",
       "      <th></th>\n",
       "      <th></th>\n",
       "      <th></th>\n",
       "      <th></th>\n",
       "      <th></th>\n",
       "      <th></th>\n",
       "    </tr>\n",
       "  </thead>\n",
       "  <tbody>\n",
       "    <tr>\n",
       "      <th>2020-11-13</th>\n",
       "      <td>119.669998</td>\n",
       "      <td>117.870003</td>\n",
       "      <td>119.440002</td>\n",
       "      <td>119.260002</td>\n",
       "      <td>81581900.0</td>\n",
       "      <td>119.260002</td>\n",
       "    </tr>\n",
       "    <tr>\n",
       "      <th>2020-11-16</th>\n",
       "      <td>120.989998</td>\n",
       "      <td>118.150002</td>\n",
       "      <td>118.919998</td>\n",
       "      <td>120.300003</td>\n",
       "      <td>91183000.0</td>\n",
       "      <td>120.300003</td>\n",
       "    </tr>\n",
       "    <tr>\n",
       "      <th>2020-11-17</th>\n",
       "      <td>120.669998</td>\n",
       "      <td>118.959999</td>\n",
       "      <td>119.550003</td>\n",
       "      <td>119.389999</td>\n",
       "      <td>74271000.0</td>\n",
       "      <td>119.389999</td>\n",
       "    </tr>\n",
       "    <tr>\n",
       "      <th>2020-11-18</th>\n",
       "      <td>119.820000</td>\n",
       "      <td>118.000000</td>\n",
       "      <td>118.610001</td>\n",
       "      <td>118.029999</td>\n",
       "      <td>76169900.0</td>\n",
       "      <td>118.029999</td>\n",
       "    </tr>\n",
       "    <tr>\n",
       "      <th>2020-11-19</th>\n",
       "      <td>119.040001</td>\n",
       "      <td>116.809998</td>\n",
       "      <td>117.589996</td>\n",
       "      <td>118.639999</td>\n",
       "      <td>71913688.0</td>\n",
       "      <td>118.639999</td>\n",
       "    </tr>\n",
       "  </tbody>\n",
       "</table>\n",
       "</div>"
      ],
      "text/plain": [
       "                  High         Low        Open       Close      Volume  \\\n",
       "Date                                                                     \n",
       "2020-11-13  119.669998  117.870003  119.440002  119.260002  81581900.0   \n",
       "2020-11-16  120.989998  118.150002  118.919998  120.300003  91183000.0   \n",
       "2020-11-17  120.669998  118.959999  119.550003  119.389999  74271000.0   \n",
       "2020-11-18  119.820000  118.000000  118.610001  118.029999  76169900.0   \n",
       "2020-11-19  119.040001  116.809998  117.589996  118.639999  71913688.0   \n",
       "\n",
       "             Adj Close  \n",
       "Date                    \n",
       "2020-11-13  119.260002  \n",
       "2020-11-16  120.300003  \n",
       "2020-11-17  119.389999  \n",
       "2020-11-18  118.029999  \n",
       "2020-11-19  118.639999  "
      ]
     },
     "execution_count": 4,
     "metadata": {},
     "output_type": "execute_result"
    }
   ],
   "source": [
    "AAPL.tail()"
   ]
  },
  {
   "cell_type": "markdown",
   "metadata": {},
   "source": [
    "## simple rate of Return\n",
    "\n",
    "(P1- P0)/ P0 = P1/P0 - 1"
   ]
  },
  {
   "cell_type": "code",
   "execution_count": 7,
   "metadata": {},
   "outputs": [
    {
     "name": "stdout",
     "output_type": "stream",
     "text": [
      "Date\n",
      "1995-01-03         NaN\n",
      "1995-01-04    0.026059\n",
      "1995-01-05   -0.012698\n",
      "1995-01-06    0.080386\n",
      "1995-01-09   -0.018973\n",
      "                ...   \n",
      "2020-11-13    0.000419\n",
      "2020-11-16    0.008720\n",
      "2020-11-17   -0.007564\n",
      "2020-11-18   -0.011391\n",
      "2020-11-19    0.005168\n",
      "Name: simple_return, Length: 6519, dtype: float64\n"
     ]
    }
   ],
   "source": [
    "AAPL['simple_return'] = (AAPL['Adj Close'] / AAPL['Adj Close'].shift(1)) -1\n",
    "print(AAPL['simple_return'])"
   ]
  },
  {
   "cell_type": "code",
   "execution_count": 8,
   "metadata": {},
   "outputs": [
    {
     "data": {
      "text/plain": [
       "<matplotlib.axes._subplots.AxesSubplot at 0x1f4ddcd5880>"
      ]
     },
     "execution_count": 8,
     "metadata": {},
     "output_type": "execute_result"
    },
    {
     "data": {
      "image/png": "[encoded data removed]",
      "text/plain": [
       "<Figure size 576x360 with 1 Axes>"
      ]
     },
     "metadata": {
      "needs_background": "light"
     },
     "output_type": "display_data"
    }
   ],
   "source": [
    "AAPL['simple_return'].plot(figsize=(8,5))\n"
   ]
  },
  {
   "cell_type": "code",
   "execution_count": 10,
   "metadata": {},
   "outputs": [
    {
     "data": {
      "text/plain": [
       "0.0013191204005725803"
      ]
     },
     "execution_count": 10,
     "metadata": {},
     "output_type": "execute_result"
    }
   ],
   "source": [
    "avg_returns_d = AAPL['simple_return'].mean() ## pandas.DataFrame.mean() - Calculates the average daily rate of return.\n",
    "avg_returns_d"
   ]
  },
  {
   "cell_type": "code",
   "execution_count": 12,
   "metadata": {},
   "outputs": [
    {
     "data": {
      "text/plain": [
       "0.32978010014314507"
      ]
     },
     "execution_count": 12,
     "metadata": {},
     "output_type": "execute_result"
    }
   ],
   "source": [
    "avg_returns_a = AAPL['simple_return'].mean() * 250\n",
    "avg_returns_a"
   ]
  },
  {
   "cell_type": "code",
   "execution_count": 14,
   "metadata": {},
   "outputs": [
    {
     "name": "stdout",
     "output_type": "stream",
     "text": [
      "32.978 %\n"
     ]
    }
   ],
   "source": [
    "print(str(round(avg_returns_a, 5) *100) + ' %')\n"
   ]
  },
  {
   "cell_type": "markdown",
   "metadata": {},
   "source": [
    "# Log Returns"
   ]
  },
  {
   "cell_type": "markdown",
   "metadata": {},
   "source": [
    "\\begin{align}\n",
    "\\ln(P(t)/P(t-1))\n",
    "\\end{align}\n"
   ]
  },
  {
   "cell_type": "code",
   "execution_count": 20,
   "metadata": {},
   "outputs": [
    {
     "name": "stdout",
     "output_type": "stream",
     "text": [
      "Date\n",
      "1995-01-03         NaN\n",
      "1995-01-04    0.025725\n",
      "1995-01-05   -0.012780\n",
      "1995-01-06    0.077318\n",
      "1995-01-09   -0.019156\n",
      "                ...   \n",
      "2020-11-13    0.000419\n",
      "2020-11-16    0.008683\n",
      "2020-11-17   -0.007593\n",
      "2020-11-18   -0.011457\n",
      "2020-11-19    0.005155\n",
      "Name: log_return, Length: 6519, dtype: float64\n"
     ]
    }
   ],
   "source": [
    "AAPL['log_return'] = np.log(AAPL['Adj Close']/ AAPL['Adj Close'].shift(1))\n",
    "print (AAPL['log_return'])"
   ]
  },
  {
   "cell_type": "code",
   "execution_count": 22,
   "metadata": {},
   "outputs": [
    {
     "data": {
      "image/png": "[encoded data removed]",
      "text/plain": [
       "<Figure size 576x360 with 1 Axes>"
      ]
     },
     "metadata": {
      "needs_background": "light"
     },
     "output_type": "display_data"
    }
   ],
   "source": [
    "AAPL['log_return'].plot(figsize=(8,5))\n",
    "plt.show()"
   ]
  },
  {
   "cell_type": "code",
   "execution_count": 24,
   "metadata": {},
   "outputs": [
    {
     "data": {
      "text/plain": [
       "0.000922741041800265"
      ]
     },
     "execution_count": 24,
     "metadata": {},
     "output_type": "execute_result"
    }
   ],
   "source": [
    "log_return_d = AAPL['log_return'].mean()\n",
    "log_return_d"
   ]
  },
  {
   "cell_type": "code",
   "execution_count": 25,
   "metadata": {},
   "outputs": [],
   "source": [
    "log_return_a = AAPL['log_return'].mean() * 250"
   ]
  },
  {
   "cell_type": "code",
   "execution_count": 26,
   "metadata": {},
   "outputs": [
    {
     "data": {
      "text/plain": [
       "0.23068526045006624"
      ]
     },
     "execution_count": 26,
     "metadata": {},
     "output_type": "execute_result"
    }
   ],
   "source": [
    "log_return_a"
   ]
  },
  {
   "cell_type": "code",
   "execution_count": 27,
   "metadata": {},
   "outputs": [
    {
     "name": "stdout",
     "output_type": "stream",
     "text": [
      "23.069 %\n"
     ]
    }
   ],
   "source": [
    "print(str(round(log_return_a, 5) *100) + ' %')"
   ]
  },
  {
   "cell_type": "code",
   "execution_count": null,
   "metadata": {},
   "outputs": [],
   "source": []
  }
 ],
 "metadata": {
  "kernelspec": {
   "display_name": "Python 3",
   "language": "python",
   "name": "python3"
  },
  "language_info": {
   "codemirror_mode": {
    "name": "ipython",
    "version": 3
   },
   "file_extension": ".py",
   "mimetype": "text/x-python",
   "name": "python",
   "nbconvert_exporter": "python",
   "pygments_lexer": "ipython3",
   "version": "3.8.3"
  }
 },
 "nbformat": 4,
 "nbformat_minor": 4
}
