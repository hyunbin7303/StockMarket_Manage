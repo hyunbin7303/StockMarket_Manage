{
 "cells": [
  {
   "cell_type": "code",
   "execution_count": null,
   "metadata": {},
   "outputs": [],
   "source": [
    "import pandas as pd \n",
    "\n",
    "#해당 링크는 한국거래소에서 상장법인목록을 엑셀로 다운로드하는 링크입니다.\n",
    "#다운로드와 동시에 Pandas에 excel 파일이 load가 되는 구조입니다.\n",
    "stock_code = pd.read_html('http://kind.krx.co.kr/corpgeneral/corpList.do?method=download', header=0)[0] \n",
    "#stock_code.head()\n",
    "\n",
    "# 데이터에서 정렬이 따로 필요하지는 않지만 테스트겸 Pandas sort_values를 이용하여 정렬을 시도해봅니다.\n",
    "stock_code.sort_values(['상장일'], ascending=True)\n",
    "\n",
    "# 필요한 것은 \"회사명\"과 \"종목코드\" 이므로 필요없는 column들은 제외\n",
    "stock_code = stock_code[['회사명', '종목코드']] \n",
    "\n",
    "# 한글 컬럼명을 영어로 변경 \n",
    "stock_code = stock_code.rename(columns={'회사명': 'company', '종목코드': 'code'}) \n",
    "#stock_code.head()\n",
    "\n",
    "# 종목코드가 6자리이기 때문에 6자리를 맞춰주기 위해 설정해줌 \n",
    "stock_code.code = stock_code.code.map('{:06d}'.format) "
   ]
  },
  {
   "cell_type": "code",
   "execution_count": null,
   "metadata": {},
   "outputs": [],
   "source": [
    "#원하는 종목 txt파일에 저장해놨고 불러오는거\n",
    "import os  \n",
    "path = \"./aaa.txt\" \n",
    "file=open(path,'r', encoding='UTF-8') \n",
    "selected_company=file.read() \n",
    "selected_company=selected_company.split(\"\\n\") \n",
    "print(selected_company)\n",
    "print(selected_company[1])"
   ]
  },
  {
   "cell_type": "code",
   "execution_count": null,
   "metadata": {},
   "outputs": [],
   "source": [
    "# 데이터들의 일별 시세 url 가져오기 \n",
    "for i in selected_company :\n",
    "    company=i \n",
    "#    file_2.write(i+\"\\n\")   \n",
    "    code = stock_code[stock_code.company==company].code.values[0].strip() ## strip() : 공백제거\n",
    "    page = 1\n",
    "    url = 'http://finance.naver.com/item/sise_day.nhn?code={code}'.format(code=code)     \n",
    "    url = '{url}&page={page}'.format(url=url, page=page)\n",
    "    print(url)\n",
    "    df = pd.read_html(url, header=0)[0]\n",
    "#회사이름별로 구별하기 위해 컬럼 추가\n",
    "    df.insert(0,i,0)\n",
    "#cvs 파일로 현재 디렉토리에 저장. mode append    \n",
    "    df.to_csv('aaaa.csv', mode='a')\n",
    "#저장된 파일 불러와보기    \n",
    "a=pd.read_csv(\"./aaaa.csv\")\n",
    "a.head(40)\n",
    "# 여기까지만함 아직 더못했음 밑에는 원래코드임"
   ]
  },
  {
   "cell_type": "code",
   "execution_count": null,
   "metadata": {},
   "outputs": [],
   "source": [
    "company='LG화학' \n",
    "code = stock_code[stock_code.company==company].code.values[0].strip() ## strip() : 공백제거\n",
    "\n",
    "df = pd.DataFrame()\n",
    "for page in range(1,21):\n",
    "    url = 'http://finance.naver.com/item/sise_day.nhn?code={code}'.format(code=code)     \n",
    "    url = '{url}&page={page}'.format(url=url, page=page)\n",
    "    print(url)\n",
    "    df = df.append(pd.read_html(url, header=0)[0], ignore_index=True)"
   ]
  },
  {
   "cell_type": "code",
   "execution_count": null,
   "metadata": {},
   "outputs": [],
   "source": [
    "# df.dropna()를 이용해 결측값 있는 행 제거 \n",
    "df = df.dropna() \n",
    "\n",
    "# 한글로 된 컬럼명을 영어로 바꿔줌 \n",
    "df = df.rename(columns= {'날짜': 'date', '종가': 'close', '전일비': 'diff', '시가': 'open', '고가': 'high', '저가': 'low', '거래량': 'volume'}) \n",
    "# 데이터의 타입을 int형으로 바꿔줌 \n",
    "df[['close', 'diff', 'open', 'high', 'low', 'volume']] = df[['close', 'diff', 'open', 'high', 'low', 'volume']].astype(int) \n",
    "\n",
    "# 컬럼명 'date'의 타입을 date로 바꿔줌 \n",
    "df['date'] = pd.to_datetime(df['date']) \n",
    "\n",
    "# 일자(date)를 기준으로 오름차순 정렬 \n",
    "df = df.sort_values(by=['date'], ascending=True) \n",
    "\n",
    "# 상위 5개 데이터 확인 \n",
    "df.head()"
   ]
  },
  {
   "cell_type": "code",
   "execution_count": null,
   "metadata": {},
   "outputs": [],
   "source": [
    "import matplotlib.pyplot as plt\n",
    "# 필요한 모듈 import 하기 \n",
    "import plotly\n",
    "import plotly.graph_objects as go\n",
    "import plotly.express as px\n",
    "\n",
    "# %matplotlib inline 은 jupyter notebook 사용자용 - jupyter notebook 내에 그래프가 그려지게 한다.\n",
    "%matplotlib inline"
   ]
  },
  {
   "cell_type": "code",
   "execution_count": null,
   "metadata": {},
   "outputs": [],
   "source": [
    "fig = px.line(df, x='date', y='close', title='{}의 종가(close) Time Series'.format(company))\n",
    "\n",
    "fig.update_xaxes(\n",
    "    rangeslider_visible=True,\n",
    "    rangeselector=dict(\n",
    "        buttons=list([\n",
    "            dict(count=1, label=\"1m\", step=\"month\", stepmode=\"backward\"),\n",
    "            dict(count=3, label=\"3m\", step=\"month\", stepmode=\"backward\"),\n",
    "            dict(count=6, label=\"6m\", step=\"month\", stepmode=\"backward\"),\n",
    "            dict(step=\"all\")\n",
    "        ])\n",
    "    )\n",
    ")\n",
    "fig.show()\n",
    "fig.write_html(\"file.html\")"
   ]
  },
  {
   "cell_type": "code",
   "execution_count": null,
   "metadata": {},
   "outputs": [],
   "source": []
  },
  {
   "cell_type": "code",
   "execution_count": null,
   "metadata": {},
   "outputs": [],
   "source": []
  },
  {
   "cell_type": "code",
   "execution_count": null,
   "metadata": {},
   "outputs": [],
   "source": []
  },
  {
   "cell_type": "code",
   "execution_count": null,
   "metadata": {},
   "outputs": [],
   "source": []
  },
  {
   "cell_type": "code",
   "execution_count": null,
   "metadata": {},
   "outputs": [],
   "source": []
  },
  {
   "cell_type": "code",
   "execution_count": null,
   "metadata": {},
   "outputs": [],
   "source": []
  }
 ],
 "metadata": {
  "kernelspec": {
   "display_name": "Python 3",
   "language": "python",
   "name": "python3"
  },
  "language_info": {
   "codemirror_mode": {
    "name": "ipython",
    "version": 3
   },
   "file_extension": ".py",
   "mimetype": "text/x-python",
   "name": "python",
   "nbconvert_exporter": "python",
   "pygments_lexer": "ipython3",
   "version": "3.8.3"
  }
 },
 "nbformat": 4,
 "nbformat_minor": 4
}
