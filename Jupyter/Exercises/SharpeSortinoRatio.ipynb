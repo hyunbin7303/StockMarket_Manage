{
 "cells": [
  {
   "cell_type": "markdown",
   "metadata": {},
   "source": []
  },
  {
   "cell_type": "code",
   "execution_count": 6,
   "metadata": {},
   "outputs": [],
   "source": [
    "import pandas as pd\n",
    "import numpy as np\n",
    "from pandas_datareader import data as wb\n",
    "import matplotlib.pyplot as plt"
   ]
  },
  {
   "cell_type": "code",
   "execution_count": 12,
   "metadata": {},
   "outputs": [],
   "source": [
    "# aapl = pd.read_csv('apple.csv', index_col='Date', parse_dates=True)\n",
    "AAPL = wb.DataReader('AAPL', data_source = 'yahoo', start='2015-1-1')\n",
    "AAPL['Daily Return'] = AAPL['Adj Close'].pct_change(1)\n",
    "AAPL = AAPL.dropna()\n"
   ]
  },
  {
   "cell_type": "code",
   "execution_count": 26,
   "metadata": {},
   "outputs": [
    {
     "data": {
      "text/html": [
       "<div>\n",
       "<style scoped>\n",
       "    .dataframe tbody tr th:only-of-type {\n",
       "        vertical-align: middle;\n",
       "    }\n",
       "\n",
       "    .dataframe tbody tr th {\n",
       "        vertical-align: top;\n",
       "    }\n",
       "\n",
       "    .dataframe thead th {\n",
       "        text-align: right;\n",
       "    }\n",
       "</style>\n",
       "<table border=\"1\" class=\"dataframe\">\n",
       "  <thead>\n",
       "    <tr style=\"text-align: right;\">\n",
       "      <th></th>\n",
       "      <th>High</th>\n",
       "      <th>Low</th>\n",
       "      <th>Open</th>\n",
       "      <th>Close</th>\n",
       "      <th>Volume</th>\n",
       "      <th>Adj Close</th>\n",
       "      <th>Daily Return</th>\n",
       "    </tr>\n",
       "    <tr>\n",
       "      <th>Date</th>\n",
       "      <th></th>\n",
       "      <th></th>\n",
       "      <th></th>\n",
       "      <th></th>\n",
       "      <th></th>\n",
       "      <th></th>\n",
       "      <th></th>\n",
       "    </tr>\n",
       "  </thead>\n",
       "  <tbody>\n",
       "    <tr>\n",
       "      <th>2015-01-05</th>\n",
       "      <td>27.162500</td>\n",
       "      <td>26.352501</td>\n",
       "      <td>27.072500</td>\n",
       "      <td>26.562500</td>\n",
       "      <td>257142000.0</td>\n",
       "      <td>23.949759</td>\n",
       "      <td>-0.028172</td>\n",
       "    </tr>\n",
       "    <tr>\n",
       "      <th>2015-01-06</th>\n",
       "      <td>26.857500</td>\n",
       "      <td>26.157499</td>\n",
       "      <td>26.635000</td>\n",
       "      <td>26.565001</td>\n",
       "      <td>263188400.0</td>\n",
       "      <td>23.952017</td>\n",
       "      <td>0.000094</td>\n",
       "    </tr>\n",
       "    <tr>\n",
       "      <th>2015-01-07</th>\n",
       "      <td>27.049999</td>\n",
       "      <td>26.674999</td>\n",
       "      <td>26.799999</td>\n",
       "      <td>26.937500</td>\n",
       "      <td>160423600.0</td>\n",
       "      <td>24.287874</td>\n",
       "      <td>0.014022</td>\n",
       "    </tr>\n",
       "    <tr>\n",
       "      <th>2015-01-08</th>\n",
       "      <td>28.037500</td>\n",
       "      <td>27.174999</td>\n",
       "      <td>27.307501</td>\n",
       "      <td>27.972500</td>\n",
       "      <td>237458000.0</td>\n",
       "      <td>25.221067</td>\n",
       "      <td>0.038422</td>\n",
       "    </tr>\n",
       "    <tr>\n",
       "      <th>2015-01-09</th>\n",
       "      <td>28.312500</td>\n",
       "      <td>27.552500</td>\n",
       "      <td>28.167500</td>\n",
       "      <td>28.002501</td>\n",
       "      <td>214798000.0</td>\n",
       "      <td>25.248119</td>\n",
       "      <td>0.001073</td>\n",
       "    </tr>\n",
       "    <tr>\n",
       "      <th>...</th>\n",
       "      <td>...</td>\n",
       "      <td>...</td>\n",
       "      <td>...</td>\n",
       "      <td>...</td>\n",
       "      <td>...</td>\n",
       "      <td>...</td>\n",
       "      <td>...</td>\n",
       "    </tr>\n",
       "    <tr>\n",
       "      <th>2022-10-25</th>\n",
       "      <td>152.490005</td>\n",
       "      <td>149.360001</td>\n",
       "      <td>150.089996</td>\n",
       "      <td>152.339996</td>\n",
       "      <td>74732300.0</td>\n",
       "      <td>152.339996</td>\n",
       "      <td>0.019338</td>\n",
       "    </tr>\n",
       "    <tr>\n",
       "      <th>2022-10-26</th>\n",
       "      <td>151.990005</td>\n",
       "      <td>148.039993</td>\n",
       "      <td>150.960007</td>\n",
       "      <td>149.350006</td>\n",
       "      <td>88194300.0</td>\n",
       "      <td>149.350006</td>\n",
       "      <td>-0.019627</td>\n",
       "    </tr>\n",
       "    <tr>\n",
       "      <th>2022-10-27</th>\n",
       "      <td>149.050003</td>\n",
       "      <td>144.130005</td>\n",
       "      <td>148.070007</td>\n",
       "      <td>144.800003</td>\n",
       "      <td>109180200.0</td>\n",
       "      <td>144.800003</td>\n",
       "      <td>-0.030465</td>\n",
       "    </tr>\n",
       "    <tr>\n",
       "      <th>2022-10-28</th>\n",
       "      <td>157.500000</td>\n",
       "      <td>147.820007</td>\n",
       "      <td>148.199997</td>\n",
       "      <td>155.740005</td>\n",
       "      <td>164659100.0</td>\n",
       "      <td>155.740005</td>\n",
       "      <td>0.075553</td>\n",
       "    </tr>\n",
       "    <tr>\n",
       "      <th>2022-10-31</th>\n",
       "      <td>154.070007</td>\n",
       "      <td>151.929993</td>\n",
       "      <td>153.154999</td>\n",
       "      <td>153.729996</td>\n",
       "      <td>46582770.0</td>\n",
       "      <td>153.729996</td>\n",
       "      <td>-0.012906</td>\n",
       "    </tr>\n",
       "  </tbody>\n",
       "</table>\n",
       "<p>1971 rows × 7 columns</p>\n",
       "</div>"
      ],
      "text/plain": [
       "                  High         Low        Open       Close       Volume  \\\n",
       "Date                                                                      \n",
       "2015-01-05   27.162500   26.352501   27.072500   26.562500  257142000.0   \n",
       "2015-01-06   26.857500   26.157499   26.635000   26.565001  263188400.0   \n",
       "2015-01-07   27.049999   26.674999   26.799999   26.937500  160423600.0   \n",
       "2015-01-08   28.037500   27.174999   27.307501   27.972500  237458000.0   \n",
       "2015-01-09   28.312500   27.552500   28.167500   28.002501  214798000.0   \n",
       "...                ...         ...         ...         ...          ...   \n",
       "2022-10-25  152.490005  149.360001  150.089996  152.339996   74732300.0   \n",
       "2022-10-26  151.990005  148.039993  150.960007  149.350006   88194300.0   \n",
       "2022-10-27  149.050003  144.130005  148.070007  144.800003  109180200.0   \n",
       "2022-10-28  157.500000  147.820007  148.199997  155.740005  164659100.0   \n",
       "2022-10-31  154.070007  151.929993  153.154999  153.729996   46582770.0   \n",
       "\n",
       "             Adj Close  Daily Return  \n",
       "Date                                  \n",
       "2015-01-05   23.949759     -0.028172  \n",
       "2015-01-06   23.952017      0.000094  \n",
       "2015-01-07   24.287874      0.014022  \n",
       "2015-01-08   25.221067      0.038422  \n",
       "2015-01-09   25.248119      0.001073  \n",
       "...                ...           ...  \n",
       "2022-10-25  152.339996      0.019338  \n",
       "2022-10-26  149.350006     -0.019627  \n",
       "2022-10-27  144.800003     -0.030465  \n",
       "2022-10-28  155.740005      0.075553  \n",
       "2022-10-31  153.729996     -0.012906  \n",
       "\n",
       "[1971 rows x 7 columns]"
      ]
     },
     "execution_count": 26,
     "metadata": {},
     "output_type": "execute_result"
    }
   ],
   "source": [
    "AAPL"
   ]
  },
  {
   "cell_type": "code",
   "execution_count": 27,
   "metadata": {},
   "outputs": [
    {
     "data": {
      "text/plain": [
       "0.018718637411739937"
      ]
     },
     "execution_count": 27,
     "metadata": {},
     "output_type": "execute_result"
    }
   ],
   "source": [
    "AAPL['Daily Return'].std()"
   ]
  },
  {
   "cell_type": "code",
   "execution_count": 28,
   "metadata": {},
   "outputs": [],
   "source": [
    "# Two key parts of evaluating performance : \n",
    "# Measuring Return and Risk.\n",
    "# The sharpe ratio aims to combine these measurements in order to faily compare one investment against another.\n",
    "\n",
    "# How do we convert the daily sharpe ratio to a yearlyu sharpe Ratio???? \n",
    "# - There are 252 trading days in a year.\n",
    "# - Standard deviation is the square root of variance, meaning to be consistent with our units,\n",
    "# we want to multiply a daily sharpe ratio by sqrt (252) to convert it to a yearly sharpe Ratio.\n",
    "def compute_sharpe_ratio(df, risk_free_rate = 0):\n",
    "    mean_return = df['Daily Return'].mean()\n",
    "    std = df['Daily Return'].std()\n",
    "    sharpe_ratio = (mean_return - risk_free_rate) / std\n",
    "    ## getting annual sharpe ratio    \n",
    "    return sharpe_ratio * (252**0.5) # np.sqrt(252)"
   ]
  },
  {
   "cell_type": "code",
   "execution_count": 29,
   "metadata": {},
   "outputs": [
    {
     "data": {
      "text/plain": [
       "0.936699824748538"
      ]
     },
     "execution_count": 29,
     "metadata": {},
     "output_type": "execute_result"
    }
   ],
   "source": [
    "sr_apple = compute_sharpe_ratio(AAPL)\n",
    "sr_apple"
   ]
  },
  {
   "cell_type": "code",
   "execution_count": 30,
   "metadata": {},
   "outputs": [
    {
     "data": {
      "text/plain": [
       "<AxesSubplot: xlabel='Date'>"
      ]
     },
     "execution_count": 30,
     "metadata": {},
     "output_type": "execute_result"
    },
    {
     "data": {
      "image/png": "[encoded data removed]",
      "text/plain": [
       "<Figure size 640x480 with 1 Axes>"
      ]
     },
     "metadata": {},
     "output_type": "display_data"
    }
   ],
   "source": [
    "AAPL['Adj Close'].plot()"
   ]
  },
  {
   "cell_type": "code",
   "execution_count": 31,
   "metadata": {},
   "outputs": [],
   "source": [
    "# siply only take into account the volatility(std. dev.) for returns below a threshold (typically set to zero).\n",
    "# This means we only take into account downside volatility.\n",
    "\n",
    "# Sortino Ratio = (Mean Asset Return - Risk Free Return) / Std. Dev. of Downside Returns.\n",
    "\n",
    "\n",
    "def compute_sortino_ratio(df, threshold=0, risk_free_rate = 0): \n",
    "    mean_return = df['Daily Return'].mean()\n",
    "    #Volatility (Threshold)\n",
    "    # if T= 0 -> Negative Daily Returns\n",
    "    downside = df[df['Daily Return'] < threshold]['Daily Return']\n",
    "    std = downside.std()\n",
    "    sortino_ratio = (mean_return - risk_free_rate) / std\n",
    "    return sortino_ratio * (252** 0.5)\n",
    "\n"
   ]
  },
  {
   "cell_type": "code",
   "execution_count": 33,
   "metadata": {},
   "outputs": [
    {
     "data": {
      "text/plain": [
       "1.277689139429336"
      ]
     },
     "execution_count": 33,
     "metadata": {},
     "output_type": "execute_result"
    }
   ],
   "source": [
    "sortino_apple = compute_sortino_ratio(AAPL)\n",
    "sortino_apple"
   ]
  },
  {
   "cell_type": "code",
   "execution_count": null,
   "metadata": {},
   "outputs": [],
   "source": []
  }
 ],
 "metadata": {
  "kernelspec": {
   "display_name": "Python 3.10.8 64-bit",
   "language": "python",
   "name": "python3"
  },
  "language_info": {
   "codemirror_mode": {
    "name": "ipython",
    "version": 3
   },
   "file_extension": ".py",
   "mimetype": "text/x-python",
   "name": "python",
   "nbconvert_exporter": "python",
   "pygments_lexer": "ipython3",
   "version": "3.10.8"
  },
  "orig_nbformat": 4,
  "vscode": {
   "interpreter": {
    "hash": "b0fa6594d8f4cbf19f97940f81e996739fb7646882a419484c72d19e05852a7e"
   }
  }
 },
 "nbformat": 4,
 "nbformat_minor": 2
}
