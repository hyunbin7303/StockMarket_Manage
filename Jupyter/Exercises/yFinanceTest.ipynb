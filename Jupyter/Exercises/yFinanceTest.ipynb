{
 "cells": [
  {
   "cell_type": "code",
   "execution_count": 1,
   "metadata": {},
   "outputs": [
    {
     "name": "stdout",
     "output_type": "stream",
     "text": [
      "Requirement already satisfied: yfinance in /opt/homebrew/lib/python3.10/site-packages (0.2.11)\r\n",
      "Requirement already satisfied: pandas>=1.3.0 in /opt/homebrew/lib/python3.10/site-packages (from yfinance) (1.5.1)\r\n",
      "Requirement already satisfied: frozendict>=2.3.4 in /opt/homebrew/lib/python3.10/site-packages (from yfinance) (2.3.4)\r\n",
      "Requirement already satisfied: requests>=2.26 in /opt/homebrew/lib/python3.10/site-packages (from yfinance) (2.28.1)\r\n",
      "Requirement already satisfied: numpy>=1.16.5 in /opt/homebrew/lib/python3.10/site-packages (from yfinance) (1.23.4)\r\n",
      "Requirement already satisfied: lxml>=4.9.1 in /opt/homebrew/lib/python3.10/site-packages (from yfinance) (4.9.1)\r\n",
      "Requirement already satisfied: html5lib>=1.1 in /opt/homebrew/lib/python3.10/site-packages (from yfinance) (1.1)\r\n",
      "Requirement already satisfied: appdirs>=1.4.4 in /opt/homebrew/lib/python3.10/site-packages (from yfinance) (1.4.4)\r\n",
      "Requirement already satisfied: beautifulsoup4>=4.11.1 in /Users/kevin/Library/Python/3.10/lib/python/site-packages (from yfinance) (4.11.1)\r\n",
      "Requirement already satisfied: multitasking>=0.0.7 in /opt/homebrew/lib/python3.10/site-packages (from yfinance) (0.0.11)\r\n",
      "Requirement already satisfied: cryptography>=3.3.2 in /opt/homebrew/lib/python3.10/site-packages (from yfinance) (39.0.1)\r\n",
      "Requirement already satisfied: pytz>=2022.5 in /opt/homebrew/lib/python3.10/site-packages (from yfinance) (2022.7.1)\r\n",
      "Requirement already satisfied: soupsieve>1.2 in /Users/kevin/Library/Python/3.10/lib/python/site-packages (from beautifulsoup4>=4.11.1->yfinance) (2.3.2.post1)\r\n",
      "Requirement already satisfied: cffi>=1.12 in /Users/kevin/Library/Python/3.10/lib/python/site-packages (from cryptography>=3.3.2->yfinance) (1.15.1)\r\n",
      "Requirement already satisfied: six>=1.9 in /opt/homebrew/lib/python3.10/site-packages (from html5lib>=1.1->yfinance) (1.16.0)\r\n",
      "Requirement already satisfied: webencodings in /Users/kevin/Library/Python/3.10/lib/python/site-packages (from html5lib>=1.1->yfinance) (0.5.1)\r\n",
      "Requirement already satisfied: python-dateutil>=2.8.1 in /opt/homebrew/lib/python3.10/site-packages (from pandas>=1.3.0->yfinance) (2.8.2)\r\n",
      "Requirement already satisfied: certifi>=2017.4.17 in /opt/homebrew/lib/python3.10/site-packages (from requests>=2.26->yfinance) (2022.9.24)\r\n",
      "Requirement already satisfied: idna<4,>=2.5 in /opt/homebrew/lib/python3.10/site-packages (from requests>=2.26->yfinance) (3.4)\r\n",
      "Requirement already satisfied: charset-normalizer<3,>=2 in /opt/homebrew/lib/python3.10/site-packages (from requests>=2.26->yfinance) (2.1.1)\r\n",
      "Requirement already satisfied: urllib3<1.27,>=1.21.1 in /opt/homebrew/lib/python3.10/site-packages (from requests>=2.26->yfinance) (1.26.12)\r\n",
      "Requirement already satisfied: pycparser in /Users/kevin/Library/Python/3.10/lib/python/site-packages (from cffi>=1.12->cryptography>=3.3.2->yfinance) (2.21)\r\n"
     ]
    },
    {
     "ename": "ModuleNotFoundError",
     "evalue": "No module named 'yfinance'",
     "output_type": "error",
     "traceback": [
      "\u001b[0;31m---------------------------------------------------------------------------\u001b[0m",
      "\u001b[0;31mModuleNotFoundError\u001b[0m                       Traceback (most recent call last)",
      "\u001b[0;32m/var/folders/lv/g8ftjr3s71392q03dffm3brw0000gn/T/ipykernel_92587/900352337.py\u001b[0m in \u001b[0;36m<module>\u001b[0;34m\u001b[0m\n\u001b[1;32m      1\u001b[0m \u001b[0mget_ipython\u001b[0m\u001b[0;34m(\u001b[0m\u001b[0;34m)\u001b[0m\u001b[0;34m.\u001b[0m\u001b[0msystem\u001b[0m\u001b[0;34m(\u001b[0m\u001b[0;34m'pip install yfinance'\u001b[0m\u001b[0;34m)\u001b[0m\u001b[0;34m\u001b[0m\u001b[0;34m\u001b[0m\u001b[0m\n\u001b[1;32m      2\u001b[0m \u001b[0;34m\u001b[0m\u001b[0m\n\u001b[0;32m----> 3\u001b[0;31m \u001b[0;32mimport\u001b[0m \u001b[0myfinance\u001b[0m \u001b[0;32mas\u001b[0m \u001b[0myf\u001b[0m\u001b[0;34m\u001b[0m\u001b[0;34m\u001b[0m\u001b[0m\n\u001b[0m\u001b[1;32m      4\u001b[0m \u001b[0;34m\u001b[0m\u001b[0m\n\u001b[1;32m      5\u001b[0m \u001b[0mmsft\u001b[0m \u001b[0;34m=\u001b[0m \u001b[0myf\u001b[0m\u001b[0;34m.\u001b[0m\u001b[0mTicker\u001b[0m\u001b[0;34m(\u001b[0m\u001b[0;34m\"MSFT\"\u001b[0m\u001b[0;34m)\u001b[0m\u001b[0;34m\u001b[0m\u001b[0;34m\u001b[0m\u001b[0m\n",
      "\u001b[0;31mModuleNotFoundError\u001b[0m: No module named 'yfinance'"
     ]
    }
   ],
   "source": [
    "\n",
    "import yfinance as yf\n",
    "\n",
    "msft = yf.Ticker(\"MSFT\")\n",
    "\n",
    "msft.history(..., proxy=\"PROXY_SERVER\")\n",
    "msft.get_actions(proxy=\"PROXY_SERVER\")\n",
    "msft.get_dividends(proxy=\"PROXY_SERVER\")\n",
    "msft.get_splits(proxy=\"PROXY_SERVER\")\n",
    "msft.get_capital_gains(proxy=\"PROXY_SERVER\")\n",
    "msft.get_balance_sheet(proxy=\"PROXY_SERVER\")\n",
    "msft.get_cashflow(proxy=\"PROXY_SERVER\")\n",
    "msft.option_chain(..., proxy=\"PROXY_SERVER\")"
   ]
  },
  {
   "cell_type": "code",
   "execution_count": 2,
   "metadata": {},
   "outputs": [],
   "source": [
    "# to use yfinance in condo, run this too. pip install yfinance"
   ]
  },
  {
   "cell_type": "code",
   "execution_count": null,
   "metadata": {},
   "outputs": [],
   "source": []
  }
 ],
 "metadata": {
  "kernelspec": {
   "display_name": "Python 3 (ipykernel)",
   "language": "python",
   "name": "python3"
  },
  "language_info": {
   "codemirror_mode": {
    "name": "ipython",
    "version": 3
   },
   "file_extension": ".py",
   "mimetype": "text/x-python",
   "name": "python",
   "nbconvert_exporter": "python",
   "pygments_lexer": "ipython3",
   "version": "3.9.13"
  },
  "vscode": {
   "interpreter": {
    "hash": "b0fa6594d8f4cbf19f97940f81e996739fb7646882a419484c72d19e05852a7e"
   }
  }
 },
 "nbformat": 4,
 "nbformat_minor": 2
}
